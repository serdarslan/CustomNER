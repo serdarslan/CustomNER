{
 "cells": [
  {
   "cell_type": "code",
   "execution_count": 11,
   "id": "15923dc3-fd9e-4b9e-b0f4-00b6458da283",
   "metadata": {},
   "outputs": [],
   "source": [
    "import pandas as pd\n",
    "from pathlib import Path"
   ]
  },
  {
   "cell_type": "code",
   "execution_count": 12,
   "id": "b8980300-6566-4fa5-b715-0c564146bd03",
   "metadata": {},
   "outputs": [],
   "source": [
    "version = \"23\"\n",
    "file_name = \"data/result_\"+ version + \".xlsx\"\n",
    "sheet_name = \"Sheet1\"\n",
    "df = pd.read_excel(file_name, sheet_name=sheet_name)\n",
    "\n",
    "file_name = \"data/keys_fasil_\"+ version + \".csv\"\n",
    "keys = pd.read_csv(file_name)\n",
    "keys = keys.apply(lambda x: x.str.strip() , axis=1)\n",
    "keys.to_csv(\"data/clean_keys_fasil_\"+ version + \".csv\", index=False)"
   ]
  },
  {
   "cell_type": "code",
   "execution_count": 17,
   "id": "677e41b8-299c-4698-b719-3dfb0826c358",
   "metadata": {},
   "outputs": [],
   "source": [
    "def isKeyword(row, list1):\n",
    "    if (row['product'] in list1):\n",
    "        return \"old\"\n",
    "    else:\n",
    "        return \"new\""
   ]
  },
  {
   "cell_type": "code",
   "execution_count": 18,
   "id": "5846da80-0e41-4fda-ac1f-0761b06142bf",
   "metadata": {},
   "outputs": [],
   "source": [
    "df['isNew'] = df.apply(lambda row: isKeyword(row,keys[\"keys\"].to_list()), axis=1)"
   ]
  },
  {
   "cell_type": "code",
   "execution_count": 19,
   "id": "af99b182-c3c4-45c4-ac7a-121231564f6b",
   "metadata": {},
   "outputs": [
    {
     "data": {
      "text/html": [
       "<div>\n",
       "<style scoped>\n",
       "    .dataframe tbody tr th:only-of-type {\n",
       "        vertical-align: middle;\n",
       "    }\n",
       "\n",
       "    .dataframe tbody tr th {\n",
       "        vertical-align: top;\n",
       "    }\n",
       "\n",
       "    .dataframe thead th {\n",
       "        text-align: right;\n",
       "    }\n",
       "</style>\n",
       "<table border=\"1\" class=\"dataframe\">\n",
       "  <thead>\n",
       "    <tr style=\"text-align: right;\">\n",
       "      <th></th>\n",
       "      <th>ID</th>\n",
       "      <th>desc</th>\n",
       "      <th>product</th>\n",
       "      <th>isNew</th>\n",
       "    </tr>\n",
       "  </thead>\n",
       "  <tbody>\n",
       "    <tr>\n",
       "      <th>0</th>\n",
       "      <td>sm23-t23-01</td>\n",
       "      <td>pet foods (buffalo offals unfit for huma</td>\n",
       "      <td>buffalo offals unfit for huma</td>\n",
       "      <td>new</td>\n",
       "    </tr>\n",
       "    <tr>\n",
       "      <th>15</th>\n",
       "      <td>sm23-t23-18</td>\n",
       "      <td>fishmeal (unfit for human consumption)pa</td>\n",
       "      <td>fishmeal</td>\n",
       "      <td>new</td>\n",
       "    </tr>\n",
       "    <tr>\n",
       "      <th>23</th>\n",
       "      <td>sm23-t23-33</td>\n",
       "      <td>powder fish meal(unfit for human consump</td>\n",
       "      <td>fish</td>\n",
       "      <td>new</td>\n",
       "    </tr>\n",
       "    <tr>\n",
       "      <th>37</th>\n",
       "      <td>sm23-t23-52</td>\n",
       "      <td>fishmeal semi finished(unfit for human consump...</td>\n",
       "      <td>fishmeal semi</td>\n",
       "      <td>new</td>\n",
       "    </tr>\n",
       "    <tr>\n",
       "      <th>38</th>\n",
       "      <td>sm23-t23-53</td>\n",
       "      <td>fishmeal semi finished(unfit for human consump...</td>\n",
       "      <td>fishmeal semi</td>\n",
       "      <td>new</td>\n",
       "    </tr>\n",
       "  </tbody>\n",
       "</table>\n",
       "</div>"
      ],
      "text/plain": [
       "             ID                                               desc  \\\n",
       "0   sm23-t23-01          pet foods (buffalo offals unfit for huma    \n",
       "15  sm23-t23-18          fishmeal (unfit for human consumption)pa    \n",
       "23  sm23-t23-33          powder fish meal(unfit for human consump    \n",
       "37  sm23-t23-52  fishmeal semi finished(unfit for human consump...   \n",
       "38  sm23-t23-53  fishmeal semi finished(unfit for human consump...   \n",
       "\n",
       "                          product isNew  \n",
       "0   buffalo offals unfit for huma   new  \n",
       "15                       fishmeal   new  \n",
       "23                           fish   new  \n",
       "37                  fishmeal semi   new  \n",
       "38                  fishmeal semi   new  "
      ]
     },
     "execution_count": 19,
     "metadata": {},
     "output_type": "execute_result"
    }
   ],
   "source": [
    "df2 = df[df.isNew == \"new\"]\n",
    "df2.head()"
   ]
  },
  {
   "cell_type": "code",
   "execution_count": 20,
   "id": "dcd47069-9cf6-4920-85be-0a3aeb677197",
   "metadata": {},
   "outputs": [],
   "source": [
    "df.to_excel(\"data/comparison_\"+ version + \".xlsx\", index=False)"
   ]
  }
 ],
 "metadata": {
  "kernelspec": {
   "display_name": "Python 3 (ipykernel)",
   "language": "python",
   "name": "python3"
  },
  "language_info": {
   "codemirror_mode": {
    "name": "ipython",
    "version": 3
   },
   "file_extension": ".py",
   "mimetype": "text/x-python",
   "name": "python",
   "nbconvert_exporter": "python",
   "pygments_lexer": "ipython3",
   "version": "3.8.11"
  }
 },
 "nbformat": 4,
 "nbformat_minor": 5
}
