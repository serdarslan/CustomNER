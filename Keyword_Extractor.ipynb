{
 "cells": [
  {
   "cell_type": "code",
   "execution_count": 4,
   "id": "b3a9743e-5c65-41e3-84cd-3f0f2e39eb61",
   "metadata": {},
   "outputs": [],
   "source": [
    "# library imports\n",
    "import pandas as pd\n",
    "import json\n",
    "from datetime import datetime\n",
    "from tqdm import tqdm\n",
    "import re\n",
    "from pathlib import Path"
   ]
  },
  {
   "cell_type": "code",
   "execution_count": 5,
   "id": "0e2d0c71-4366-4ff1-b41d-33ff7e56ab33",
   "metadata": {},
   "outputs": [],
   "source": [
    "def createKeywords(in_file_name, sheet_name, column_name):\n",
    "    try:\n",
    "        #fasil6_file_name = \"data/Hindistan 06-Yeni Anahtar Kelime-06.fasıl.xlsx\"\n",
    "        #fasil6_sheet_name = \"Sayfa1\"\n",
    "        df = pd.read_excel(in_file_name, sheet_name=sheet_name)\n",
    "        keys_df = df[[column_name]]\n",
    "        keys_df.rename(columns = {column_name:'keys'}, inplace = True)\n",
    "        keys_df['keys'] = keys_df[\"keys\"].str.lower()\n",
    "        keys_df['keys'] = keys_df[\"keys\"].str.strip()\n",
    "        #keys_df['keys'] = re.sub('^[(\"]', '', keys_df['keys'].str)\n",
    "        #keys_df['keys'] = re.sub('[(\")]$', '', keys_df['keys'].str)\n",
    "        keys_df = pd.DataFrame(keys_df[\"keys\"].dropna().unique(), columns=['keys'])\n",
    "        return keys_df\n",
    "    except Exception as e:\n",
    "        print(e)\n",
    "        pass"
   ]
  },
  {
   "cell_type": "code",
   "execution_count": 6,
   "id": "d3b3f5e1-9b9b-42b5-b3fa-d7e3ddcca01b",
   "metadata": {},
   "outputs": [
    {
     "name": "stderr",
     "output_type": "stream",
     "text": [
      "C:\\ProgramData\\Anaconda3\\envs\\stance\\lib\\site-packages\\pandas\\core\\frame.py:5034: SettingWithCopyWarning: \n",
      "A value is trying to be set on a copy of a slice from a DataFrame\n",
      "\n",
      "See the caveats in the documentation: https://pandas.pydata.org/pandas-docs/stable/user_guide/indexing.html#returning-a-view-versus-a-copy\n",
      "  return super().rename(\n",
      "C:\\Users\\pc\\AppData\\Local\\Temp/ipykernel_23952/3118374799.py:8: SettingWithCopyWarning: \n",
      "A value is trying to be set on a copy of a slice from a DataFrame.\n",
      "Try using .loc[row_indexer,col_indexer] = value instead\n",
      "\n",
      "See the caveats in the documentation: https://pandas.pydata.org/pandas-docs/stable/user_guide/indexing.html#returning-a-view-versus-a-copy\n",
      "  keys_df['keys'] = keys_df[\"keys\"].str.lower()\n",
      "C:\\Users\\pc\\AppData\\Local\\Temp/ipykernel_23952/3118374799.py:9: SettingWithCopyWarning: \n",
      "A value is trying to be set on a copy of a slice from a DataFrame.\n",
      "Try using .loc[row_indexer,col_indexer] = value instead\n",
      "\n",
      "See the caveats in the documentation: https://pandas.pydata.org/pandas-docs/stable/user_guide/indexing.html#returning-a-view-versus-a-copy\n",
      "  keys_df['keys'] = keys_df[\"keys\"].str.strip()\n"
     ]
    },
    {
     "data": {
      "text/html": [
       "<div>\n",
       "<style scoped>\n",
       "    .dataframe tbody tr th:only-of-type {\n",
       "        vertical-align: middle;\n",
       "    }\n",
       "\n",
       "    .dataframe tbody tr th {\n",
       "        vertical-align: top;\n",
       "    }\n",
       "\n",
       "    .dataframe thead th {\n",
       "        text-align: right;\n",
       "    }\n",
       "</style>\n",
       "<table border=\"1\" class=\"dataframe\">\n",
       "  <thead>\n",
       "    <tr style=\"text-align: right;\">\n",
       "      <th></th>\n",
       "      <th>keys</th>\n",
       "    </tr>\n",
       "  </thead>\n",
       "  <tbody>\n",
       "    <tr>\n",
       "      <th>count</th>\n",
       "      <td>1522</td>\n",
       "    </tr>\n",
       "    <tr>\n",
       "      <th>unique</th>\n",
       "      <td>1522</td>\n",
       "    </tr>\n",
       "    <tr>\n",
       "      <th>top</th>\n",
       "      <td>bone meal</td>\n",
       "    </tr>\n",
       "    <tr>\n",
       "      <th>freq</th>\n",
       "      <td>1</td>\n",
       "    </tr>\n",
       "  </tbody>\n",
       "</table>\n",
       "</div>"
      ],
      "text/plain": [
       "             keys\n",
       "count        1522\n",
       "unique       1522\n",
       "top     bone meal\n",
       "freq            1"
      ]
     },
     "execution_count": 6,
     "metadata": {},
     "output_type": "execute_result"
    }
   ],
   "source": [
    "#input file da tek sheet içerisinde data | kelime-1 | kelime-2 olmalı\n",
    "version = \"23\"\n",
    "key_out_file_name = \"data/keys_fasil_\"+ version + \".csv\"\n",
    "fasil_file_name = \"data/Hindistan \"+ version + \"-Yeni Anahtar Kelime-\"+ version + \".fasıl.xlsx\"\n",
    "fasil_sheet_name = \"Sayfa1\"\n",
    "fasil_column_name = \"KELİME-1\"\n",
    "keys1 = createKeywords(fasil_file_name, fasil_sheet_name, fasil_column_name)\n",
    "fasil_column_name = \"KELİME-2\"\n",
    "keys2 = createKeywords(fasil_file_name, fasil_sheet_name, fasil_column_name)\n",
    "keys = keys1.append(keys2)\n",
    "keys = pd.DataFrame(keys[\"keys\"].dropna().unique(), columns=['keys'])\n",
    "keys.to_csv(key_out_file_name, index=False)\n",
    "keys.describe()"
   ]
  }
 ],
 "metadata": {
  "kernelspec": {
   "display_name": "Python 3 (ipykernel)",
   "language": "python",
   "name": "python3"
  },
  "language_info": {
   "codemirror_mode": {
    "name": "ipython",
    "version": 3
   },
   "file_extension": ".py",
   "mimetype": "text/x-python",
   "name": "python",
   "nbconvert_exporter": "python",
   "pygments_lexer": "ipython3",
   "version": "3.8.11"
  }
 },
 "nbformat": 4,
 "nbformat_minor": 5
}
